{
 "cells": [
  {
   "cell_type": "markdown",
   "metadata": {},
   "source": [
    "[Problem Link](https://leetcode.com/problems/container-with-most-water/)"
   ]
  },
  {
   "cell_type": "markdown",
   "metadata": {},
   "source": [
    "**Naive Approach:**"
   ]
  },
  {
   "cell_type": "code",
   "execution_count": 1,
   "metadata": {},
   "outputs": [],
   "source": [
    "height = [1,8,6,2,5,4,8,3,7]"
   ]
  },
  {
   "cell_type": "code",
   "execution_count": 10,
   "metadata": {},
   "outputs": [
    {
     "name": "stdout",
     "output_type": "stream",
     "text": [
      "49\n"
     ]
    }
   ],
   "source": [
    "N = len(height)\n",
    "max_area = 0\n",
    "for i in range(0, N-1):\n",
    "    for j in range(i+1, N):\n",
    "        container_area = min(height[i], height[j]) * (j-i)\n",
    "        if container_area > max_area:\n",
    "            max_area = container_area\n",
    "\n",
    "print(max_area)"
   ]
  },
  {
   "cell_type": "markdown",
   "metadata": {},
   "source": [
    "*Status: Time Limit Exceeded*"
   ]
  },
  {
   "cell_type": "markdown",
   "metadata": {},
   "source": [
    "**Slightly more efficient approach**"
   ]
  },
  {
   "cell_type": "code",
   "execution_count": 17,
   "metadata": {},
   "outputs": [],
   "source": [
    "height = [1,8,6,2,5,4,8,3,7]"
   ]
  },
  {
   "cell_type": "code",
   "execution_count": 20,
   "metadata": {},
   "outputs": [
    {
     "name": "stdout",
     "output_type": "stream",
     "text": [
      "49\n"
     ]
    }
   ],
   "source": [
    "i = 0\n",
    "j = len(height)-1\n",
    "max_area = 0\n",
    "for _ in range(j):\n",
    "    flag = min(height[i], height[j])\n",
    "    container_area = flag * (j-i)\n",
    "    if container_area > max_area:\n",
    "        max_area = container_area\n",
    "    if height[i] > height[j]:\n",
    "        j-=1\n",
    "    else:\n",
    "        i+=1\n",
    "\n",
    "print(max_area)"
   ]
  },
  {
   "cell_type": "markdown",
   "metadata": {},
   "source": [
    "**Leetcode Submission**"
   ]
  },
  {
   "cell_type": "code",
   "execution_count": null,
   "metadata": {},
   "outputs": [],
   "source": [
    "class Solution:\n",
    "    def maxArea(self, height: List[int]) -> int:\n",
    "        i = 0\n",
    "        j = len(height)-1\n",
    "        max_area = 0\n",
    "        for _ in range(j):\n",
    "            flag = min(height[i], height[j])\n",
    "            container_area = flag * (j-i)\n",
    "            if container_area > max_area:\n",
    "                max_area = container_area\n",
    "            if height[i] > height[j]:\n",
    "                j-=1\n",
    "            else:\n",
    "                i+=1\n",
    "\n",
    "        return max_area\n",
    "        "
   ]
  },
  {
   "cell_type": "markdown",
   "metadata": {},
   "source": [
    "*Status: Accepted*"
   ]
  }
 ],
 "metadata": {
  "interpreter": {
   "hash": "e5349d29bfce02622582d372668319d6b19bfa27b08987ebdc2000dcc2fa00b6"
  },
  "kernelspec": {
   "display_name": "Python 3.9.5 ('base')",
   "language": "python",
   "name": "python3"
  },
  "language_info": {
   "codemirror_mode": {
    "name": "ipython",
    "version": 3
   },
   "file_extension": ".py",
   "mimetype": "text/x-python",
   "name": "python",
   "nbconvert_exporter": "python",
   "pygments_lexer": "ipython3",
   "version": "3.9.5"
  },
  "orig_nbformat": 4
 },
 "nbformat": 4,
 "nbformat_minor": 2
}
