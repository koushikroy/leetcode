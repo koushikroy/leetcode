{
 "cells": [
  {
   "cell_type": "code",
   "execution_count": 8,
   "metadata": {},
   "outputs": [
    {
     "data": {
      "text/plain": [
       "[5, 6, 7, 1, 2, 3, 4]"
      ]
     },
     "execution_count": 8,
     "metadata": {},
     "output_type": "execute_result"
    }
   ],
   "source": [
    "nums = [1,2,3,4,5,6,7]\n",
    "k = 3\n",
    "# Ans = [5, 6, 7, 1, 2, 3, 4]\n",
    "n = len(nums)\n",
    "while k>n:\n",
    "    k = k-n\n",
    "nums = nums[-k:]+nums[:-k]\n",
    "nums"
   ]
  },
  {
   "cell_type": "code",
   "execution_count": 9,
   "metadata": {},
   "outputs": [
    {
     "data": {
      "text/plain": [
       "[3, 99, -1, -100]"
      ]
     },
     "execution_count": 9,
     "metadata": {},
     "output_type": "execute_result"
    }
   ],
   "source": [
    "nums = [-1,-100,3,99]\n",
    "k = 2\n",
    "# Ans = [3,99,-1,-100]\n",
    "n = len(nums)\n",
    "while k>n:\n",
    "    k = k-n\n",
    "nums = nums[-k:]+nums[:-k]\n",
    "nums"
   ]
  },
  {
   "cell_type": "code",
   "execution_count": 10,
   "metadata": {},
   "outputs": [
    {
     "data": {
      "text/plain": [
       "[2, 1]"
      ]
     },
     "execution_count": 10,
     "metadata": {},
     "output_type": "execute_result"
    }
   ],
   "source": [
    "nums = [1,2]\n",
    "k = 3\n",
    "# Ans = [2,1]\n",
    "n = len(nums)\n",
    "while k>n:\n",
    "    k = k-n\n",
    "nums = nums[-k:]+nums[:-k]\n",
    "nums"
   ]
  }
 ],
 "metadata": {
  "interpreter": {
   "hash": "1c500172ef8b6c1ce6983e96e57cb3ae2ca1f0ac63339dd54244498459c49c1c"
  },
  "kernelspec": {
   "display_name": "Python 3.7.10 ('base')",
   "language": "python",
   "name": "python3"
  },
  "language_info": {
   "codemirror_mode": {
    "name": "ipython",
    "version": 3
   },
   "file_extension": ".py",
   "mimetype": "text/x-python",
   "name": "python",
   "nbconvert_exporter": "python",
   "pygments_lexer": "ipython3",
   "version": "3.7.10"
  },
  "orig_nbformat": 4
 },
 "nbformat": 4,
 "nbformat_minor": 2
}
