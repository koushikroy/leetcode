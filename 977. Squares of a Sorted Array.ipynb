{
 "cells": [
  {
   "cell_type": "markdown",
   "metadata": {},
   "source": [
    "[Problem Link](https://leetcode.com/problems/squares-of-a-sorted-array/)"
   ]
  },
  {
   "cell_type": "code",
   "execution_count": 10,
   "metadata": {},
   "outputs": [
    {
     "data": {
      "text/plain": [
       "[0, 1, 9, 16, 100]"
      ]
     },
     "execution_count": 10,
     "metadata": {},
     "output_type": "execute_result"
    }
   ],
   "source": [
    "nums = [-4,-1,0,3,10]\n",
    "n = len(nums)\n",
    "left, right = 0, n-1\n",
    "result = [0]*n\n",
    "i = n-1\n",
    "while i >= 0:\n",
    "    if abs(nums[left]) > abs(nums[right]):\n",
    "        result[i] = nums[left]**2\n",
    "        left += 1\n",
    "    else:\n",
    "        result[i] = nums[right]**2\n",
    "        right -= 1\n",
    "    i -= 1\n",
    "result\n"
   ]
  }
 ],
 "metadata": {
  "interpreter": {
   "hash": "1c500172ef8b6c1ce6983e96e57cb3ae2ca1f0ac63339dd54244498459c49c1c"
  },
  "kernelspec": {
   "display_name": "Python 3.7.10 ('base')",
   "language": "python",
   "name": "python3"
  },
  "language_info": {
   "codemirror_mode": {
    "name": "ipython",
    "version": 3
   },
   "file_extension": ".py",
   "mimetype": "text/x-python",
   "name": "python",
   "nbconvert_exporter": "python",
   "pygments_lexer": "ipython3",
   "version": "3.7.10"
  },
  "orig_nbformat": 4
 },
 "nbformat": 4,
 "nbformat_minor": 2
}
