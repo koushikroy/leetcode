{
 "cells": [
  {
   "cell_type": "code",
   "execution_count": 1,
   "metadata": {},
   "outputs": [
    {
     "data": {
      "text/plain": [
       "[1, 3, 12, 0, 0]"
      ]
     },
     "execution_count": 1,
     "metadata": {},
     "output_type": "execute_result"
    }
   ],
   "source": [
    "nums = [0,1,0,3,12]\n",
    "count_zeros = 0\n",
    "count_non_zeros = 0\n",
    "for i in range(len(nums)):\n",
    "    if nums[i] == 0:\n",
    "        count_zeros += 1\n",
    "    else:\n",
    "        nums[count_non_zeros] = nums[i]\n",
    "        count_non_zeros += 1\n",
    "nums[count_non_zeros:] = [0]*count_zeros\n",
    "nums"
   ]
  }
 ],
 "metadata": {
  "interpreter": {
   "hash": "1c500172ef8b6c1ce6983e96e57cb3ae2ca1f0ac63339dd54244498459c49c1c"
  },
  "kernelspec": {
   "display_name": "Python 3.7.10 ('base')",
   "language": "python",
   "name": "python3"
  },
  "language_info": {
   "codemirror_mode": {
    "name": "ipython",
    "version": 3
   },
   "file_extension": ".py",
   "mimetype": "text/x-python",
   "name": "python",
   "nbconvert_exporter": "python",
   "pygments_lexer": "ipython3",
   "version": "3.7.10"
  },
  "orig_nbformat": 4
 },
 "nbformat": 4,
 "nbformat_minor": 2
}
