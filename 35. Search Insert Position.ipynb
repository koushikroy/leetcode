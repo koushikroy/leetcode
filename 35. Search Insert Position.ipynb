{
 "cells": [
  {
   "cell_type": "markdown",
   "metadata": {},
   "source": [
    "[Problem Link]()"
   ]
  },
  {
   "cell_type": "code",
   "execution_count": 17,
   "metadata": {},
   "outputs": [],
   "source": [
    "nums = [1,3,5,6]\n",
    "target = 6"
   ]
  },
  {
   "cell_type": "code",
   "execution_count": 18,
   "metadata": {},
   "outputs": [
    {
     "name": "stdout",
     "output_type": "stream",
     "text": [
      "3\n"
     ]
    }
   ],
   "source": [
    "n = len(nums)\n",
    "left, right = 0, n-1\n",
    "while left <= right:\n",
    "    pivot = left + (right-left)//2\n",
    "    if target == nums[pivot]:\n",
    "        print(pivot)\n",
    "        break\n",
    "    else:\n",
    "        if target < nums[pivot]:\n",
    "            if target > nums[pivot-1]:\n",
    "                print(pivot)\n",
    "                break\n",
    "            else:\n",
    "                right = pivot - 1\n",
    "        else:\n",
    "            left = pivot + 1"
   ]
  },
  {
   "cell_type": "code",
   "execution_count": null,
   "metadata": {},
   "outputs": [],
   "source": [
    "# Leetcode submission\n",
    "class Solution:\n",
    "    def searchInsert(self, nums: List[int], target: int) -> int:\n",
    "        n = len(nums)\n",
    "        if target > nums[-1]:\n",
    "            return n\n",
    "        elif target < nums[0]:\n",
    "            return 0\n",
    "        left, right = 0, n-1\n",
    "        while left <= right:\n",
    "            pivot = left + (right-left)//2\n",
    "            if target == nums[pivot]:\n",
    "                return pivot\n",
    "            else:\n",
    "                if target < nums[pivot]:\n",
    "                    if target > nums[pivot-1]:\n",
    "                        return pivot\n",
    "                    else:\n",
    "                        right = pivot - 1\n",
    "                else:\n",
    "                    left = pivot + 1\n",
    "        "
   ]
  },
  {
   "cell_type": "markdown",
   "metadata": {},
   "source": [
    "*Status: Accepted*"
   ]
  }
 ],
 "metadata": {
  "interpreter": {
   "hash": "1c500172ef8b6c1ce6983e96e57cb3ae2ca1f0ac63339dd54244498459c49c1c"
  },
  "kernelspec": {
   "display_name": "Python 3.7.10 ('base')",
   "language": "python",
   "name": "python3"
  },
  "language_info": {
   "codemirror_mode": {
    "name": "ipython",
    "version": 3
   },
   "file_extension": ".py",
   "mimetype": "text/x-python",
   "name": "python",
   "nbconvert_exporter": "python",
   "pygments_lexer": "ipython3",
   "version": "3.7.10"
  },
  "orig_nbformat": 4
 },
 "nbformat": 4,
 "nbformat_minor": 2
}
