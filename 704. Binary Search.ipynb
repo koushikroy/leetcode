{
 "cells": [
  {
   "cell_type": "markdown",
   "metadata": {},
   "source": [
    "[Problem Link](https://leetcode.com/problems/binary-search/)"
   ]
  },
  {
   "cell_type": "markdown",
   "metadata": {},
   "source": [
    "**Problem Statement**\n",
    "\n",
    "Binary Search: Given an array of integers nums which is sorted in ascending order, and an integer target, write a function to search target in nums. If target exists, then return its index. Otherwise, return -1.\n",
    "\n",
    "You must write an algorithm with O(log n) runtime complexity.\n",
    "\n",
    "**Intuition**\n",
    "- Binary search is a textbook algorithm based on the idea to compare the target value to the middle element of the array.\n",
    "\n",
    "- If the target value is equal to the middle element - we're done.\n",
    "\n",
    "- If the target value is smaller - continue to search on the left.\n",
    "\n",
    "- If the target value is larger - continue to search on the right.\n",
    "\n",
    "<!-- ![Binary Search](https://leetcode.com/problems/binary-search/Figures/704/search.png) -->\n",
    "<img src=\"https://leetcode.com/problems/binary-search/Figures/704/search.png\" width=\"500\" height=\"250\" />\n",
    "\n",
    "**Algorithm**\n",
    "\n",
    "- Initialise left and right pointers : left = 0, right = n - 1.\n",
    "\n",
    "- While left <= right :\n",
    "\n",
    "    - pivot = left + (right-left)//2\n",
    "\n",
    "    - Compare middle element of the array nums[pivot] to the target value target.\n",
    "\n",
    "    - If the middle element is the target target = nums[pivot] : return pivot.\n",
    "\n",
    "    - If the target is not yet found :\n",
    "\n",
    "        - If target < nums[pivot], continue the search on the left right = pivot - 1.\n",
    "\n",
    "        - Else continue the search on the right left = pivot + 1."
   ]
  },
  {
   "cell_type": "code",
   "execution_count": 2,
   "metadata": {},
   "outputs": [],
   "source": [
    "nums = [-1,0,3,5,9,12]\n",
    "target = 9"
   ]
  },
  {
   "cell_type": "code",
   "execution_count": 4,
   "metadata": {},
   "outputs": [
    {
     "name": "stdout",
     "output_type": "stream",
     "text": [
      "4\n"
     ]
    }
   ],
   "source": [
    "n = len(nums)\n",
    "left, right = 0, n-1\n",
    "while left <= right:\n",
    "    pivot = left + (right-left)//2\n",
    "    if target == nums[pivot]:\n",
    "        print(pivot)\n",
    "        break\n",
    "    else:\n",
    "        if target < nums[pivot]:\n",
    "            right = pivot - 1\n",
    "        else:\n",
    "            left = pivot + 1"
   ]
  },
  {
   "cell_type": "code",
   "execution_count": 9,
   "metadata": {},
   "outputs": [],
   "source": [
    "# Function\n",
    "def search(nums, target):\n",
    "    n = len(nums)\n",
    "    left, right = 0, n-1\n",
    "    while left <= right:\n",
    "        pivot = left + (right-left)//2\n",
    "        if target == nums[pivot]:\n",
    "            return pivot\n",
    "        else:\n",
    "            if target < nums[pivot]:\n",
    "                right = pivot - 1\n",
    "            else:\n",
    "                left = pivot + 1\n",
    "    return -1"
   ]
  },
  {
   "cell_type": "code",
   "execution_count": 11,
   "metadata": {},
   "outputs": [
    {
     "name": "stdout",
     "output_type": "stream",
     "text": [
      "-1\n"
     ]
    }
   ],
   "source": [
    "print(search([-1,0,3,5,9,12],2))"
   ]
  },
  {
   "cell_type": "code",
   "execution_count": 12,
   "metadata": {},
   "outputs": [],
   "source": [
    "# Leetcode accepted submission\n",
    "class Solution:\n",
    "    # Function\n",
    "    def search(self, nums, target):\n",
    "        n = len(nums)\n",
    "        left, right = 0, n-1\n",
    "        while left <= right:\n",
    "            pivot = left + (right-left)//2\n",
    "            if target == nums[pivot]:\n",
    "                return pivot\n",
    "            else:\n",
    "                if target < nums[pivot]:\n",
    "                    right = pivot - 1\n",
    "                else:\n",
    "                    left = pivot + 1\n",
    "        return -1\n",
    "        "
   ]
  },
  {
   "cell_type": "markdown",
   "metadata": {},
   "source": [
    "*Status: Accepted*"
   ]
  },
  {
   "cell_type": "markdown",
   "metadata": {},
   "source": []
  }
 ],
 "metadata": {
  "interpreter": {
   "hash": "e5349d29bfce02622582d372668319d6b19bfa27b08987ebdc2000dcc2fa00b6"
  },
  "kernelspec": {
   "display_name": "Python 3.9.5 ('base')",
   "language": "python",
   "name": "python3"
  },
  "language_info": {
   "codemirror_mode": {
    "name": "ipython",
    "version": 3
   },
   "file_extension": ".py",
   "mimetype": "text/x-python",
   "name": "python",
   "nbconvert_exporter": "python",
   "pygments_lexer": "ipython3",
   "version": "3.7.10"
  },
  "orig_nbformat": 4
 },
 "nbformat": 4,
 "nbformat_minor": 2
}
