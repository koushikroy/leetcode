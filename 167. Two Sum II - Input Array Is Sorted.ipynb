{
 "cells": [
  {
   "cell_type": "code",
   "execution_count": 2,
   "metadata": {},
   "outputs": [],
   "source": [
    "numbers = [2,7,11,15]\n",
    "target = 9"
   ]
  },
  {
   "cell_type": "code",
   "execution_count": 3,
   "metadata": {},
   "outputs": [
    {
     "name": "stdout",
     "output_type": "stream",
     "text": [
      "[1, 2]\n"
     ]
    }
   ],
   "source": [
    "n = len(numbers)\n",
    "for i in range(n):\n",
    "    for j in range(i+1,n):\n",
    "        if numbers[i] + numbers[j] == target:\n",
    "            print([i+1,j+1])\n",
    "            break"
   ]
  },
  {
   "cell_type": "markdown",
   "metadata": {},
   "source": [
    "The solution works. But because it is brute force. So the time limit exceeded."
   ]
  },
  {
   "cell_type": "code",
   "execution_count": null,
   "metadata": {},
   "outputs": [],
   "source": [
    "# Working solution\n",
    "class Solution:\n",
    "    def twoSum(self, numbers: List[int], target: int) -> List[int]:         \n",
    "        res = []\n",
    "        start = 0\n",
    "        end = len(numbers)-1\n",
    "        while start < end:\n",
    "            if(numbers[start] + numbers[end] == target):\n",
    "                res.append(start+1)\n",
    "                res.append(end+1)\n",
    "                break\n",
    "            elif(numbers[start]+numbers[end] < target):\n",
    "                start+=1\n",
    "            else:\n",
    "                end-=1\n",
    "        return res"
   ]
  }
 ],
 "metadata": {
  "interpreter": {
   "hash": "1c500172ef8b6c1ce6983e96e57cb3ae2ca1f0ac63339dd54244498459c49c1c"
  },
  "kernelspec": {
   "display_name": "Python 3.7.10 ('base')",
   "language": "python",
   "name": "python3"
  },
  "language_info": {
   "codemirror_mode": {
    "name": "ipython",
    "version": 3
   },
   "file_extension": ".py",
   "mimetype": "text/x-python",
   "name": "python",
   "nbconvert_exporter": "python",
   "pygments_lexer": "ipython3",
   "version": "3.7.10"
  },
  "orig_nbformat": 4
 },
 "nbformat": 4,
 "nbformat_minor": 2
}
