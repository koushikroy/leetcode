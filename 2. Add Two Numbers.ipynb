{
 "cells": [
  {
   "cell_type": "markdown",
   "metadata": {},
   "source": [
    "[Problem Link](https://leetcode.com/problems/add-two-numbers/)"
   ]
  },
  {
   "cell_type": "code",
   "execution_count": 1,
   "metadata": {},
   "outputs": [],
   "source": [
    "# Definition for singly-linked list.\n",
    "class ListNode:\n",
    "    def __init__(self, val=0, next=None):\n",
    "        self.val = val\n",
    "        self.next = next"
   ]
  },
  {
   "cell_type": "code",
   "execution_count": 8,
   "metadata": {},
   "outputs": [],
   "source": [
    "l1_1 = ListNode(2)\n",
    "l1_2 = ListNode(4)\n",
    "l1_3 = ListNode(3)\n",
    "\n",
    "l1_1.next = l1_2\n",
    "l1_2.next = l1_3\n",
    "\n",
    "l1 = [l1_1, l1_2, l1_3]\n",
    "\n",
    "l2_1 = ListNode(5)\n",
    "l2_2 = ListNode(6)\n",
    "l2_3 = ListNode(4)\n",
    "\n",
    "l2_1.next = l2_2\n",
    "l2_2.next = l2_3\n",
    "\n",
    "l2 = [l2_1, l2_2, l2_3]"
   ]
  },
  {
   "cell_type": "code",
   "execution_count": 9,
   "metadata": {},
   "outputs": [
    {
     "name": "stdout",
     "output_type": "stream",
     "text": [
      "[2, 4, 3]\n",
      "[5, 6, 4]\n"
     ]
    }
   ],
   "source": [
    "print([l1[i].val for i in range(len(l1))])\n",
    "print([l2[i].val for i in range(len(l2))])"
   ]
  },
  {
   "cell_type": "code",
   "execution_count": 10,
   "metadata": {},
   "outputs": [],
   "source": [
    "# I have l1_1 and l2_1 only and I need to return result which is also a node object"
   ]
  },
  {
   "cell_type": "code",
   "execution_count": 22,
   "metadata": {},
   "outputs": [
    {
     "data": {
      "text/plain": [
       "[2, 4, 3]"
      ]
     },
     "execution_count": 22,
     "metadata": {},
     "output_type": "execute_result"
    }
   ],
   "source": [
    "def linked_to_normal_list(l):\n",
    "    current_node = l\n",
    "    normal_list = []\n",
    "    while current_node.next != None:\n",
    "        normal_list.append(current_node.val)\n",
    "        current_node = current_node.next\n",
    "    normal_list.append(current_node.val)\n",
    "    return normal_list\n",
    "\n",
    "l1 = linked_to_normal_list(l1_1)\n",
    "l1\n"
   ]
  },
  {
   "cell_type": "code",
   "execution_count": 15,
   "metadata": {},
   "outputs": [
    {
     "data": {
      "text/plain": [
       "[5, 6, 4]"
      ]
     },
     "execution_count": 15,
     "metadata": {},
     "output_type": "execute_result"
    }
   ],
   "source": [
    "l2 = linked_to_normal_list(l2_1)\n",
    "l2"
   ]
  },
  {
   "cell_type": "code",
   "execution_count": 23,
   "metadata": {},
   "outputs": [],
   "source": [
    "l1_rev = l1[::-1]"
   ]
  },
  {
   "cell_type": "code",
   "execution_count": 25,
   "metadata": {},
   "outputs": [],
   "source": [
    "l2_rev = l2[::-1]"
   ]
  },
  {
   "cell_type": "code",
   "execution_count": 26,
   "metadata": {},
   "outputs": [
    {
     "data": {
      "text/plain": [
       "([3, 4, 2], [4, 6, 5])"
      ]
     },
     "execution_count": 26,
     "metadata": {},
     "output_type": "execute_result"
    }
   ],
   "source": [
    "l1_rev, l2_rev"
   ]
  },
  {
   "cell_type": "code",
   "execution_count": 27,
   "metadata": {},
   "outputs": [
    {
     "data": {
      "text/plain": [
       "342"
      ]
     },
     "execution_count": 27,
     "metadata": {},
     "output_type": "execute_result"
    }
   ],
   "source": [
    "l1_num = int(\"\".join(map(str, l1_rev)))\n",
    "l1_num"
   ]
  },
  {
   "cell_type": "code",
   "execution_count": 28,
   "metadata": {},
   "outputs": [
    {
     "data": {
      "text/plain": [
       "465"
      ]
     },
     "execution_count": 28,
     "metadata": {},
     "output_type": "execute_result"
    }
   ],
   "source": [
    "l2_num = int(\"\".join(map(str, l2_rev)))\n",
    "l2_num"
   ]
  },
  {
   "cell_type": "code",
   "execution_count": 29,
   "metadata": {},
   "outputs": [
    {
     "data": {
      "text/plain": [
       "807"
      ]
     },
     "execution_count": 29,
     "metadata": {},
     "output_type": "execute_result"
    }
   ],
   "source": [
    "sum = l1_num + l2_num\n",
    "sum"
   ]
  },
  {
   "cell_type": "code",
   "execution_count": 31,
   "metadata": {},
   "outputs": [
    {
     "data": {
      "text/plain": [
       "'807'"
      ]
     },
     "execution_count": 31,
     "metadata": {},
     "output_type": "execute_result"
    }
   ],
   "source": [
    "sum_str = str(sum)\n",
    "sum_str"
   ]
  },
  {
   "cell_type": "code",
   "execution_count": 34,
   "metadata": {},
   "outputs": [
    {
     "data": {
      "text/plain": [
       "['8', '0', '7']"
      ]
     },
     "execution_count": 34,
     "metadata": {},
     "output_type": "execute_result"
    }
   ],
   "source": [
    "sum_str_split = [char for char in sum_str]\n",
    "sum_str_split"
   ]
  },
  {
   "cell_type": "code",
   "execution_count": 35,
   "metadata": {},
   "outputs": [
    {
     "data": {
      "text/plain": [
       "['7', '0', '8']"
      ]
     },
     "execution_count": 35,
     "metadata": {},
     "output_type": "execute_result"
    }
   ],
   "source": [
    "sum_str_split_rev = sum_str_split[::-1]\n",
    "sum_str_split_rev"
   ]
  },
  {
   "cell_type": "code",
   "execution_count": 36,
   "metadata": {},
   "outputs": [],
   "source": [
    "def lst2link(lst):\n",
    "    cur = dummy = ListNode(0)\n",
    "    for e in lst:\n",
    "        cur.next = ListNode(e)\n",
    "        cur = cur.next\n",
    "    return dummy.next"
   ]
  },
  {
   "cell_type": "code",
   "execution_count": 37,
   "metadata": {},
   "outputs": [
    {
     "data": {
      "text/plain": [
       "<__main__.ListNode at 0x111debdc0>"
      ]
     },
     "execution_count": 37,
     "metadata": {},
     "output_type": "execute_result"
    }
   ],
   "source": [
    "link = lst2link(sum_str_split_rev)\n",
    "link"
   ]
  },
  {
   "cell_type": "code",
   "execution_count": 40,
   "metadata": {},
   "outputs": [
    {
     "data": {
      "text/plain": [
       "['7', '0', '8']"
      ]
     },
     "execution_count": 40,
     "metadata": {},
     "output_type": "execute_result"
    }
   ],
   "source": [
    "linked_to_normal_list(link)"
   ]
  },
  {
   "cell_type": "markdown",
   "metadata": {},
   "source": [
    "### Let's Combine everything"
   ]
  },
  {
   "cell_type": "code",
   "execution_count": null,
   "metadata": {},
   "outputs": [],
   "source": [
    "# Definition for singly-linked list.\n",
    "# class ListNode:\n",
    "#     def __init__(self, val=0, next=None):\n",
    "#         self.val = val\n",
    "#         self.next = next\n",
    "class Solution:\n",
    "    def addTwoNumbers(self, l1, l2):\n",
    "        \"\"\"\n",
    "        type l1: ListNode\n",
    "        type l2: ListNode\n",
    "        return type: ListNode\n",
    "        \"\"\"\n",
    "\n",
    "        # Defining the function to convert linked list to normal list\n",
    "        def linked_to_normal_list(l):\n",
    "            current_node = l\n",
    "            normal_list = []\n",
    "            while current_node.next != None:\n",
    "                normal_list.append(current_node.val)\n",
    "                current_node = current_node.next\n",
    "            normal_list.append(current_node.val)\n",
    "            return normal_list\n",
    "        \n",
    "        # Converting input linked list into normal list\n",
    "        l1 = linked_to_normal_list(l1)\n",
    "        l2 = linked_to_normal_list(l2)\n",
    "\n",
    "        # Reverse the order of both the lists\n",
    "        l1_rev = l1[::-1]\n",
    "        l2_rev = l2[::-1]\n",
    "\n",
    "        # List to number\n",
    "        l1_num = int(\"\".join(map(str, l1_rev)))\n",
    "        l2_num = int(\"\".join(map(str, l2_rev)))\n",
    "\n",
    "        # Sum\n",
    "        sum = l1_num + l2_num\n",
    "        sum_str = str(sum)\n",
    "        sum_str_split = [char for char in sum_str]\n",
    "        sum_str_split_rev = sum_str_split[::-1]\n",
    "\n",
    "        # Defing the function to convert list to linked list\n",
    "        def lst2link(lst):\n",
    "            cur = dummy = ListNode(0)\n",
    "            for e in lst:\n",
    "                cur.next = ListNode(e)\n",
    "                cur = cur.next\n",
    "            return dummy.next\n",
    "\n",
    "        link = lst2link(sum_str_split_rev)\n",
    "        return link\n"
   ]
  },
  {
   "cell_type": "markdown",
   "metadata": {},
   "source": [
    "**Accepted**"
   ]
  },
  {
   "cell_type": "markdown",
   "metadata": {},
   "source": [
    "### Linked list implementation fully"
   ]
  },
  {
   "cell_type": "code",
   "execution_count": null,
   "metadata": {},
   "outputs": [],
   "source": [
    "class Node(object):\n",
    "\n",
    "    def __init__ (self, d, n = None):\n",
    "        self.data = d\n",
    "        self.next_node = n\n",
    "\n",
    "    def get_next (self):\n",
    "        return self.next_node\n",
    "\n",
    "    def set_next (self, n):\n",
    "        self.next_node = n\n",
    "\n",
    "    def get_data (self):\n",
    "        return self.data\n",
    "\n",
    "    def set_data (self, d):\n",
    "        self.data = d\n",
    "\n",
    "\n",
    "class LinkedList (object):\n",
    "\n",
    "    def __init__(self, r = None):\n",
    "        self.root = r\n",
    "        self.size = 0\n",
    "\n",
    "    def get_size (self):\n",
    "        return self.size\n",
    "\n",
    "    def add (self, d):\n",
    "        new_node = Node (d, self.root)\n",
    "        self.root = new_node\n",
    "        self.size += 1\n",
    "\n",
    "    def remove (self, d):\n",
    "        this_node = self.root\n",
    "        prev_node = None\n",
    "\n",
    "        while this_node:\n",
    "            if this_node.get_data() == d:\n",
    "                if prev_node:\n",
    "                    prev_node.set_next(this_node.get_next())\n",
    "                else:\n",
    "                    self.root = this_node.get_next()\n",
    "                self.size -= 1\n",
    "                return True\t\t# data removed\n",
    "            else:\n",
    "                prev_node = this_node\n",
    "                this_node = this_node.get_next()\n",
    "        return False  # data not found\n",
    "\n",
    "    def find (self, d):\n",
    "        this_node = self.root\n",
    "        while this_node:\n",
    "            if this_node.get_data() == d:\n",
    "                return d\n",
    "            else:\n",
    "                this_node = this_node.get_next()\n",
    "        return None\n",
    "\n",
    "myList = LinkedList()\n",
    "myList.add(5)\n",
    "myList.add(8)\n",
    "myList.add(12)\n",
    "print(\"size=\"+str(myList.get_size()))\n",
    "myList.remove(8)\n",
    "print(\"size=\"+str(myList.get_size()))\n",
    "print(myList.remove(12))\n",
    "print(\"size=\"+str(myList.get_size()))\n",
    "print(myList.find(5))"
   ]
  }
 ],
 "metadata": {
  "interpreter": {
   "hash": "aee8b7b246df8f9039afb4144a1f6fd8d2ca17a180786b69acc140d282b71a49"
  },
  "kernelspec": {
   "display_name": "Python 3.10.0 64-bit",
   "language": "python",
   "name": "python3"
  },
  "language_info": {
   "codemirror_mode": {
    "name": "ipython",
    "version": 3
   },
   "file_extension": ".py",
   "mimetype": "text/x-python",
   "name": "python",
   "nbconvert_exporter": "python",
   "pygments_lexer": "ipython3",
   "version": "3.10.0"
  },
  "orig_nbformat": 4
 },
 "nbformat": 4,
 "nbformat_minor": 2
}
